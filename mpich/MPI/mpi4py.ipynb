{
 "cells": [
  {
   "cell_type": "markdown",
   "metadata": {},
   "source": [
    "### Rasberry Pi\n",
    "   how to make a rasberry pi a cluster computer"
   ]
  },
  {
   "cell_type": "markdown",
   "metadata": {},
   "source": [
    "- burn image via sd card\n",
    "- Expand the File System If needed. \n",
    "- Change the hostname to Pi01\n",
    "- Change the boot option to CLI\n",
    "- \"Interfaces\" tab to make sure SSH is enabled. \n",
    "- \"Overclock\" tab to choose \"Turbo\". \n",
    "- Change the GPU memory to 16mb. \n",
    "- reboot your Pi."
   ]
  },
  {
   "cell_type": "markdown",
   "metadata": {},
   "source": [
    "### MPICH (Message Passing Interface)\n",
    "\tmkdir mpich\n",
    "    wget http://www.mpich.org/static/downloads/3.3.1/mpich-3.3.1.tar.gz\n",
    "\ttar xfz mpich-3.3.1.tar.gz\n",
    "\tmkdir /home/litzen/mpi-install\n",
    "    mkdir /home/litzen/mpi-build\n",
    "    cd mpi-build\n",
    "\tsudo /home/litzen/mpich/mpich-3.3.1/configure -prefix=/home/litzen/mpi-install\n",
    "\tsudo make\n",
    "\tsudo make install\n",
    "    \n",
    "Failed on Win10  \n",
    "https://www.microsoft.com/en-us/download/confirmation.aspx?id=54607  \n",
    "PATH=%PATH%;C:\\Program Files\\Microsoft MPI\\bin"
   ]
  },
  {
   "cell_type": "markdown",
   "metadata": {},
   "source": [
    "### mpi4py\n",
    "from source:\n",
    "- wget https://bitbucket.org/mpi4py/mpi4py/downloads/mpi4py-3.0.2.tar.gz\n",
    "- tar xfz mpi4py-3.0.2.tar.gz\n",
    "- cd mpi4py-3.0.2\n",
    "- python setup.py build\n",
    "- python setup.py install\n",
    "\n",
    "pip install:\n",
    "- sudo apt install libopenmpi-dev\n",
    "- pip install mpi4py\t"
   ]
  },
  {
   "cell_type": "code",
   "execution_count": 3,
   "metadata": {
    "collapsed": true
   },
   "outputs": [
    {
     "name": "stdout",
     "output_type": "stream",
     "text": [
      "Litzen\n",
      "mpiexec (OpenRTE) 2.1.1\n",
      "\n",
      "Report bugs to http://www.open-mpi.org/community/help/\n"
     ]
    }
   ],
   "source": [
    "# test in Linux\n",
    "!mpiexec -n 1 hostname\n",
    "!mpiexec -version"
   ]
  },
  {
   "cell_type": "code",
   "execution_count": 6,
   "metadata": {
    "scrolled": true
   },
   "outputs": [
    {
     "name": "stdout",
     "output_type": "stream",
     "text": [
      "hello world! I'm processor 0 of 1 on Litzen \n",
      "\n"
     ]
    }
   ],
   "source": [
    "# helloworld.py\n",
    "# initialize MPI enviroment\n",
    "from mpi4py import MPI\n",
    "# MPI.COMM_WORLD: Communicator Class\n",
    "# comm: object of class\n",
    "comm = MPI.COMM_WORLD\n",
    "# .Get_size, .Get_rank: Method\n",
    "size = comm.Get_size()\n",
    "rank = comm.Get_rank()\n",
    "name = MPI.Get_processor_name()\n",
    "\n",
    "print(\"hello world! I'm processor %d of %d on %s \\n\" % (rank, size, name))"
   ]
  },
  {
   "cell_type": "code",
   "execution_count": 1,
   "metadata": {
    "collapsed": true
   },
   "outputs": [
    {
     "name": "stdout",
     "output_type": "stream",
     "text": [
      "--------------------------------------------------------------------------\n",
      "WARNING: Linux kernel CMA support was requested via the\n",
      "btl_vader_single_copy_mechanism MCA variable, but CMA support is\n",
      "not available due to restrictive ptrace settings.\n",
      "\n",
      "The vader shared memory BTL will fall back on another single-copy\n",
      "mechanism if one is available. This may result in lower performance.\n",
      "\n",
      "  Local host: Litzen\n",
      "--------------------------------------------------------------------------\n",
      "hello world! I'm processor 4 of 16 on Litzen \n",
      "\n",
      "hello world! I'm processor 5 of 16 on Litzen \n",
      "\n",
      "hello world! I'm processor 6 of 16 on Litzen \n",
      "\n",
      "hello world! I'm processor 9 of 16 on Litzen \n",
      "\n",
      "hello world! I'm processor 14 of 16 on Litzen \n",
      "\n",
      "hello world! I'm processor 15 of 16 on Litzen \n",
      "\n",
      "hello world! I'm processor 1 of 16 on Litzen \n",
      "\n",
      "hello world! I'm processor 8 of 16 on Litzen \n",
      "\n",
      "hello world! I'm processor 10 of 16 on Litzen \n",
      "\n",
      "hello world! I'm processor 11 of 16 on Litzen \n",
      "\n",
      "hello world! I'm processor 13 of 16 on Litzen \n",
      "\n",
      "hello world! I'm processor 0 of 16 on Litzen \n",
      "\n",
      "hello world! I'm processor 3 of 16 on Litzen \n",
      "\n",
      "hello world! I'm processor 7 of 16 on Litzen \n",
      "\n",
      "hello world! I'm processor 2 of 16 on Litzen \n",
      "\n",
      "hello world! I'm processor 12 of 16 on Litzen \n",
      "\n",
      "[Litzen:00366] 15 more processes have sent help message help-btl-vader.txt / cma-permission-denied\n",
      "[Litzen:00366] Set MCA parameter \"orte_base_help_aggregate\" to 0 to see all help / error messages\n"
     ]
    }
   ],
   "source": [
    "!mpiexec -n 16 python helloworld.py\n",
    "# Multiple-node\n",
    "# !mpiexec -n 16 -host node1, node2, node3, python helloworld.py\n",
    "# !mpiexec -n 16 -machinefile python helloworld.py"
   ]
  },
  {
   "cell_type": "markdown",
   "metadata": {},
   "source": [
    "For normal python objects (no buffer): \n",
    "- .send(), .recv(), .bcast(), .scatter(), .gather()  \n",
    "    sent objective as a paramenter of the communication call  \n",
    "    the received object is simply the return value.\n",
    "- .isend() .irecv()  \n",
    "     return an object of Request(class) instances    \n",
    "     completed by test() and wait() methods of the Request class"
   ]
  },
  {
   "cell_type": "code",
   "execution_count": 17,
   "metadata": {
    "collapsed": true
   },
   "outputs": [
    {
     "name": "stdout",
     "output_type": "stream",
     "text": [
      "process 0 sends {'a': 1, 'b': 2}\n"
     ]
    },
    {
     "ename": "Exception",
     "evalue": "MPI_ERR_RANK: invalid rank",
     "output_type": "error",
     "traceback": [
      "\u001b[0;31m---------------------------------------------------------------------------\u001b[0m",
      "\u001b[0;31mException\u001b[0m                                 Traceback (most recent call last)",
      "\u001b[0;32m<ipython-input-17-d3112bfb2ceb>\u001b[0m in \u001b[0;36m<module>\u001b[0;34m\u001b[0m\n\u001b[1;32m     11\u001b[0m     \u001b[0mprint\u001b[0m\u001b[0;34m(\u001b[0m\u001b[0;34m'process %d sends %s'\u001b[0m \u001b[0;34m%\u001b[0m\u001b[0;34m(\u001b[0m\u001b[0mrank\u001b[0m\u001b[0;34m,\u001b[0m \u001b[0mdata\u001b[0m\u001b[0;34m)\u001b[0m\u001b[0;34m)\u001b[0m\u001b[0;34m\u001b[0m\u001b[0;34m\u001b[0m\u001b[0m\n\u001b[1;32m     12\u001b[0m     \u001b[0;31m# can specify with 'tag'\u001b[0m\u001b[0;34m\u001b[0m\u001b[0;34m\u001b[0m\u001b[0;34m\u001b[0m\u001b[0m\n\u001b[0;32m---> 13\u001b[0;31m     \u001b[0mcomm\u001b[0m\u001b[0;34m.\u001b[0m\u001b[0msend\u001b[0m\u001b[0;34m(\u001b[0m\u001b[0mdata\u001b[0m\u001b[0;34m,\u001b[0m \u001b[0mdest\u001b[0m\u001b[0;34m=\u001b[0m\u001b[0;36m1\u001b[0m\u001b[0;34m)\u001b[0m\u001b[0;34m\u001b[0m\u001b[0;34m\u001b[0m\u001b[0m\n\u001b[0m\u001b[1;32m     14\u001b[0m \u001b[0;32melif\u001b[0m \u001b[0mrank\u001b[0m \u001b[0;34m==\u001b[0m \u001b[0;36m1\u001b[0m\u001b[0;34m:\u001b[0m\u001b[0;34m\u001b[0m\u001b[0;34m\u001b[0m\u001b[0m\n\u001b[1;32m     15\u001b[0m     \u001b[0mdata\u001b[0m \u001b[0;34m=\u001b[0m \u001b[0mcomm\u001b[0m\u001b[0;34m.\u001b[0m\u001b[0mrecv\u001b[0m\u001b[0;34m(\u001b[0m\u001b[0msource\u001b[0m\u001b[0;34m=\u001b[0m\u001b[0;36m0\u001b[0m\u001b[0;34m)\u001b[0m\u001b[0;34m\u001b[0m\u001b[0;34m\u001b[0m\u001b[0m\n",
      "\u001b[0;32mmpi4py/MPI/Comm.pyx\u001b[0m in \u001b[0;36mmpi4py.MPI.Comm.send\u001b[0;34m()\u001b[0m\n",
      "\u001b[0;32mmpi4py/MPI/msgpickle.pxi\u001b[0m in \u001b[0;36mmpi4py.MPI.PyMPI_send\u001b[0;34m()\u001b[0m\n",
      "\u001b[0;31mException\u001b[0m: MPI_ERR_RANK: invalid rank"
     ]
    }
   ],
   "source": [
    "#comm_p2p_blocking.py\n",
    "# blocking p2p: \n",
    "#.send(obj=data, int dest, int tag=0) \n",
    "#.recv(int source=ANY, int tag=0) return received object\n",
    "from mpi4py import MPI\n",
    "comm = MPI.COMM_WORLD\n",
    "rank = comm.Get_rank()\n",
    "\n",
    "if rank == 0:\n",
    "    # dict with {key: value}, set with {key}\n",
    "    # Sequence: list with [], Tuple with ()\n",
    "    data = {'a': 1, 'b': 2}\n",
    "    print('process %d sends %s' %(rank, data))\n",
    "    # can specify with 'tag'\n",
    "    comm.send(data, dest=1)\n",
    "elif rank == 1:\n",
    "    data = comm.recv(source=0)\n",
    "    print('process %d receives %s' %(rank, data))"
   ]
  },
  {
   "cell_type": "code",
   "execution_count": 18,
   "metadata": {
    "collapsed": true
   },
   "outputs": [
    {
     "name": "stdout",
     "output_type": "stream",
     "text": [
      "--------------------------------------------------------------------------\n",
      "WARNING: Linux kernel CMA support was requested via the\n",
      "btl_vader_single_copy_mechanism MCA variable, but CMA support is\n",
      "not available due to restrictive ptrace settings.\n",
      "\n",
      "The vader shared memory BTL will fall back on another single-copy\n",
      "mechanism if one is available. This may result in lower performance.\n",
      "\n",
      "  Local host: Litzen\n",
      "--------------------------------------------------------------------------\n",
      "process 0 sends {'a': 1, 'b': 2}\n",
      "process 1 receives {'a': 1, 'b': 2}\n",
      "[Litzen:00238] 1 more process has sent help message help-btl-vader.txt / cma-permission-denied\n",
      "[Litzen:00238] Set MCA parameter \"orte_base_help_aggregate\" to 0 to see all help / error messages\n"
     ]
    }
   ],
   "source": [
    "!mpiexec -n 2 python comm_p2p_blocking.py"
   ]
  },
  {
   "cell_type": "code",
   "execution_count": 128,
   "metadata": {
    "collapsed": true
   },
   "outputs": [
    {
     "name": "stdout",
     "output_type": "stream",
     "text": [
      "process 0 sends {'a': 1, 'b': 2}\n"
     ]
    },
    {
     "ename": "Exception",
     "evalue": "MPI_ERR_RANK: invalid rank",
     "output_type": "error",
     "traceback": [
      "\u001b[0;31m---------------------------------------------------------------------------\u001b[0m",
      "\u001b[0;31mException\u001b[0m                                 Traceback (most recent call last)",
      "\u001b[0;32m<ipython-input-128-9b92b4a03240>\u001b[0m in \u001b[0;36m<module>\u001b[0;34m\u001b[0m\n\u001b[1;32m     11\u001b[0m     \u001b[0mprint\u001b[0m\u001b[0;34m(\u001b[0m\u001b[0;34m'process %d sends %s'\u001b[0m \u001b[0;34m%\u001b[0m\u001b[0;34m(\u001b[0m\u001b[0mrank\u001b[0m\u001b[0;34m,\u001b[0m \u001b[0mdata\u001b[0m\u001b[0;34m)\u001b[0m\u001b[0;34m)\u001b[0m\u001b[0;34m\u001b[0m\u001b[0;34m\u001b[0m\u001b[0m\n\u001b[1;32m     12\u001b[0m     \u001b[0;31m# .isend begin to send and return a MPI.Request object\u001b[0m\u001b[0;34m\u001b[0m\u001b[0;34m\u001b[0m\u001b[0;34m\u001b[0m\u001b[0m\n\u001b[0;32m---> 13\u001b[0;31m     \u001b[0mreq\u001b[0m \u001b[0;34m=\u001b[0m \u001b[0mcomm\u001b[0m\u001b[0;34m.\u001b[0m\u001b[0misend\u001b[0m\u001b[0;34m(\u001b[0m\u001b[0mdata\u001b[0m\u001b[0;34m,\u001b[0m \u001b[0mdest\u001b[0m\u001b[0;34m=\u001b[0m\u001b[0;36m1\u001b[0m\u001b[0;34m)\u001b[0m\u001b[0;34m\u001b[0m\u001b[0;34m\u001b[0m\u001b[0m\n\u001b[0m\u001b[1;32m     14\u001b[0m     \u001b[0;31m# .wait() wait for receive\u001b[0m\u001b[0;34m\u001b[0m\u001b[0;34m\u001b[0m\u001b[0;34m\u001b[0m\u001b[0m\n\u001b[1;32m     15\u001b[0m     \u001b[0mreq\u001b[0m\u001b[0;34m.\u001b[0m\u001b[0mwait\u001b[0m\u001b[0;34m(\u001b[0m\u001b[0;34m)\u001b[0m\u001b[0;34m\u001b[0m\u001b[0;34m\u001b[0m\u001b[0m\n",
      "\u001b[0;32mmpi4py/MPI/Comm.pyx\u001b[0m in \u001b[0;36mmpi4py.MPI.Comm.isend\u001b[0;34m()\u001b[0m\n",
      "\u001b[0;32mmpi4py/MPI/msgpickle.pxi\u001b[0m in \u001b[0;36mmpi4py.MPI.PyMPI_isend\u001b[0;34m()\u001b[0m\n",
      "\u001b[0;31mException\u001b[0m: MPI_ERR_RANK: invalid rank"
     ]
    }
   ],
   "source": [
    "#comm_p2p_unblocking.py\n",
    "# unblocking p2p: calculating while communicating\n",
    "# .isend(obj, int dest, int tag=0) \n",
    "# .irecv(int source =ANY, int tag=ANY) \n",
    "from mpi4py import MPI\n",
    "comm = MPI.COMM_WORLD\n",
    "rank = comm.Get_rank()\n",
    "\n",
    "if rank == 0:\n",
    "    data = {'a': 1, 'b': 2}\n",
    "    print('process %d sends %s' %(rank, data))\n",
    "    # .isend begin to send and return a MPI.Request object\n",
    "    req = comm.isend(data, dest=1)\n",
    "    # .wait() wait for receive\n",
    "    req.wait()\n",
    "elif rank == 1:\n",
    "    # . irecv begin to receive\n",
    "    req = comm.irecv(source=0)\n",
    "    # req.wait() returns received data or None\n",
    "    data = req.wait()\n",
    "    print('process %d receives %s' %(rank, data))"
   ]
  },
  {
   "cell_type": "code",
   "execution_count": 1,
   "metadata": {},
   "outputs": [
    {
     "name": "stdout",
     "output_type": "stream",
     "text": [
      "--------------------------------------------------------------------------\n",
      "WARNING: Linux kernel CMA support was requested via the\n",
      "btl_vader_single_copy_mechanism MCA variable, but CMA support is\n",
      "not available due to restrictive ptrace settings.\n",
      "\n",
      "The vader shared memory BTL will fall back on another single-copy\n",
      "mechanism if one is available. This may result in lower performance.\n",
      "\n",
      "  Local host: Litzen\n",
      "--------------------------------------------------------------------------\n",
      "process 0 sends {'a': 1, 'b': 2}\n",
      "process 1 receives {'a': 1, 'b': 2}\n",
      "[Litzen:00055] 1 more process has sent help message help-btl-vader.txt / cma-permission-denied\n",
      "[Litzen:00055] Set MCA parameter \"orte_base_help_aggregate\" to 0 to see all help / error messages\n"
     ]
    }
   ],
   "source": [
    "!mpiexec -n 2 python comm_p2p_unblocking.py"
   ]
  },
  {
   "cell_type": "code",
   "execution_count": 45,
   "metadata": {
    "collapsed": true
   },
   "outputs": [
    {
     "name": "stdout",
     "output_type": "stream",
     "text": [
      "before bcast: process 0 has {'black', 'white'}\n",
      "after bcast: process 0 has {'black', 'white'}\n"
     ]
    }
   ],
   "source": [
    "# comm_bcast.py\n",
    "#.bcast() for normal python objects\n",
    "\n",
    "from mpi4py import MPI\n",
    "comm = MPI.COMM_WORLD\n",
    "rank = comm.Get_rank()\n",
    "\n",
    "if rank == 0:\n",
    "    data = {'black', 'white'}\n",
    "    print('before bcast: process %d has %s' %(rank, data))\n",
    "else:\n",
    "    data = None\n",
    "    print('before bcast: process %d has %s' %(rank, data))\n",
    "# need object 'data' receive .bcast() on each process\n",
    "data = comm.bcast(data, root=0)\n",
    "print('after bcast: process %d has %s' %(rank, data))"
   ]
  },
  {
   "cell_type": "code",
   "execution_count": 2,
   "metadata": {
    "collapsed": true
   },
   "outputs": [
    {
     "name": "stdout",
     "output_type": "stream",
     "text": [
      "--------------------------------------------------------------------------\n",
      "WARNING: Linux kernel CMA support was requested via the\n",
      "btl_vader_single_copy_mechanism MCA variable, but CMA support is\n",
      "not available due to restrictive ptrace settings.\n",
      "\n",
      "The vader shared memory BTL will fall back on another single-copy\n",
      "mechanism if one is available. This may result in lower performance.\n",
      "\n",
      "  Local host: Litzen\n",
      "--------------------------------------------------------------------------\n",
      "before bcast: process 2 has None\n",
      "before bcast: process 1 has None\n",
      "before bcast: process 0 has {'white', 'black'}\n",
      "before bcast: process 3 has None\n",
      "after bcast: process 0 has {'white', 'black'}\n",
      "after bcast: process 1 has {'white', 'black'}\n",
      "after bcast: process 2 has {'white', 'black'}\n",
      "after bcast: process 3 has {'white', 'black'}\n",
      "[Litzen:00067] 3 more processes have sent help message help-btl-vader.txt / cma-permission-denied\n",
      "[Litzen:00067] Set MCA parameter \"orte_base_help_aggregate\" to 0 to see all help / error messages\n"
     ]
    }
   ],
   "source": [
    "!mpiexec -n 4 python comm_bcast.py"
   ]
  },
  {
   "cell_type": "code",
   "execution_count": 80,
   "metadata": {},
   "outputs": [
    {
     "name": "stdout",
     "output_type": "stream",
     "text": [
      "before scatter: process 0 has range(0, 1)\n",
      "after bcast: process 0 has 0\n"
     ]
    }
   ],
   "source": [
    "# comm_scatter.py\n",
    "#.scatter() for normal python objects\n",
    "\n",
    "from mpi4py import MPI\n",
    "comm = MPI.COMM_WORLD\n",
    "rank = comm.Get_rank()\n",
    "size = comm.Get_size()\n",
    "\n",
    "if rank == 0:\n",
    "    sdata = range(size)\n",
    "    print('before scatter: process %d has %s' %(rank, sdata))\n",
    "else:\n",
    "    #sdata = None\n",
    "    print('before scatter: process %d has %s' %(rank, sdata))\n",
    "# need object 'data' receive .bcast()\n",
    "rdata = comm.scatter(sdata, root=0)\n",
    "print('after bcast: process %d has %s' %(rank, rdata))"
   ]
  },
  {
   "cell_type": "code",
   "execution_count": null,
   "metadata": {},
   "outputs": [],
   "source": [
    "!mpiexec -n 3 python comm_scatter.py"
   ]
  },
  {
   "cell_type": "code",
   "execution_count": 117,
   "metadata": {},
   "outputs": [
    {
     "name": "stdout",
     "output_type": "stream",
     "text": [
      "before gathering: process 0 has 0\n",
      "after scattering: process 0 has [0]\n"
     ]
    }
   ],
   "source": [
    "# comm_gather.py\n",
    "from mpi4py import MPI\n",
    "\n",
    "comm = MPI.COMM_WORLD\n",
    "rank = comm.Get_rank()\n",
    "\n",
    "data = rank\n",
    "print('before gathering: process %d has %s' % (rank, data))\n",
    "\n",
    "data = comm.gather(data, root=0)\n",
    "print('after scattering: process %d has %s' % (rank, data))"
   ]
  },
  {
   "cell_type": "code",
   "execution_count": null,
   "metadata": {},
   "outputs": [],
   "source": [
    "!mpiexec -n 3 python comm_gather.py"
   ]
  },
  {
   "cell_type": "markdown",
   "metadata": {},
   "source": [
    "For Numpy Arrays (buffer):\n",
    "- .Send(), .Recv(), .Bcast(), .Scatter, .Gather()  \n",
    "    specify arguments"
   ]
  },
  {
   "cell_type": "code",
   "execution_count": 34,
   "metadata": {
    "collapsed": true
   },
   "outputs": [
    {
     "ename": "Exception",
     "evalue": "MPI_ERR_RANK: invalid rank",
     "output_type": "error",
     "traceback": [
      "\u001b[0;31m---------------------------------------------------------------------------\u001b[0m",
      "\u001b[0;31mException\u001b[0m                                 Traceback (most recent call last)",
      "\u001b[0;32m<ipython-input-34-ccf356a23965>\u001b[0m in \u001b[0;36m<module>\u001b[0;34m\u001b[0m\n\u001b[1;32m      8\u001b[0m \u001b[0;32mif\u001b[0m \u001b[0mrank\u001b[0m\u001b[0;34m==\u001b[0m\u001b[0;36m0\u001b[0m\u001b[0;34m:\u001b[0m\u001b[0;34m\u001b[0m\u001b[0;34m\u001b[0m\u001b[0m\n\u001b[1;32m      9\u001b[0m     \u001b[0mdata\u001b[0m \u001b[0;34m=\u001b[0m \u001b[0mnp\u001b[0m\u001b[0;34m.\u001b[0m\u001b[0marange\u001b[0m\u001b[0;34m(\u001b[0m\u001b[0;36m10\u001b[0m\u001b[0;34m,\u001b[0m \u001b[0mdtype\u001b[0m\u001b[0;34m=\u001b[0m\u001b[0;34m'i'\u001b[0m\u001b[0;34m)\u001b[0m\u001b[0;34m\u001b[0m\u001b[0;34m\u001b[0m\u001b[0m\n\u001b[0;32m---> 10\u001b[0;31m     \u001b[0mcomm\u001b[0m\u001b[0;34m.\u001b[0m\u001b[0mSend\u001b[0m\u001b[0;34m(\u001b[0m\u001b[0;34m[\u001b[0m\u001b[0mdata\u001b[0m\u001b[0;34m,\u001b[0m \u001b[0mMPI\u001b[0m\u001b[0;34m.\u001b[0m\u001b[0mINT\u001b[0m\u001b[0;34m]\u001b[0m\u001b[0;34m,\u001b[0m \u001b[0mdest\u001b[0m\u001b[0;34m=\u001b[0m\u001b[0;36m1\u001b[0m\u001b[0;34m)\u001b[0m\u001b[0;34m\u001b[0m\u001b[0;34m\u001b[0m\u001b[0m\n\u001b[0m\u001b[1;32m     11\u001b[0m     \u001b[0mprint\u001b[0m\u001b[0;34m(\u001b[0m\u001b[0;34m'process %d sends %s'\u001b[0m \u001b[0;34m%\u001b[0m\u001b[0;34m(\u001b[0m\u001b[0mrank\u001b[0m\u001b[0;34m,\u001b[0m \u001b[0mdata\u001b[0m\u001b[0;34m)\u001b[0m\u001b[0;34m)\u001b[0m\u001b[0;34m\u001b[0m\u001b[0;34m\u001b[0m\u001b[0m\n\u001b[1;32m     12\u001b[0m \u001b[0;32melif\u001b[0m \u001b[0mrank\u001b[0m\u001b[0;34m==\u001b[0m\u001b[0;36m1\u001b[0m\u001b[0;34m:\u001b[0m\u001b[0;34m\u001b[0m\u001b[0;34m\u001b[0m\u001b[0m\n",
      "\u001b[0;32mmpi4py/MPI/Comm.pyx\u001b[0m in \u001b[0;36mmpi4py.MPI.Comm.Send\u001b[0;34m()\u001b[0m\n",
      "\u001b[0;31mException\u001b[0m: MPI_ERR_RANK: invalid rank"
     ]
    }
   ],
   "source": [
    "# comm_p2p_numpy.py\n",
    "# .Send(list buf=[data, count, MPI.INT], int dest, int tag=0)\n",
    "# .Recv(list buf=[data, count, MPI.INI], int source=ANY, int tag=ANY)\n",
    "from mpi4py import MPI\n",
    "comm = MPI.COMM_WORLD\n",
    "rank = comm.Get_rank()\n",
    "\n",
    "import numpy as np\n",
    "\n",
    "if rank==0:\n",
    "    data = np.arange(10, dtype='i')\n",
    "    # specify data type by sending a list (or automatically specified) \n",
    "    # .Send() must specify 'tag'\n",
    "    comm.Send([data, MPI.INT], dest=1, tag=1)\n",
    "    print('process %d sends %s' %(rank, data))\n",
    "elif rank==1:\n",
    "    data = np.empty(10, dtype='i')\n",
    "    #receive and store in data\n",
    "    comm.Recv([data, MPI.INT], source=0, tag=1)\n",
    "    print('process %d receive %s' %(rank, data))"
   ]
  },
  {
   "cell_type": "code",
   "execution_count": 47,
   "metadata": {
    "collapsed": true
   },
   "outputs": [
    {
     "name": "stdout",
     "output_type": "stream",
     "text": [
      "--------------------------------------------------------------------------\n",
      "WARNING: Linux kernel CMA support was requested via the\n",
      "btl_vader_single_copy_mechanism MCA variable, but CMA support is\n",
      "not available due to restrictive ptrace settings.\n",
      "\n",
      "The vader shared memory BTL will fall back on another single-copy\n",
      "mechanism if one is available. This may result in lower performance.\n",
      "\n",
      "  Local host: Litzen\n",
      "--------------------------------------------------------------------------\n",
      "process 0 sends [0 1 2 3 4 5 6 7 8 9]\n",
      "process 1 receive [0 1 2 3 4 5 6 7 8 9]\n",
      "[Litzen:00408] 1 more process has sent help message help-btl-vader.txt / cma-permission-denied\n",
      "[Litzen:00408] Set MCA parameter \"orte_base_help_aggregate\" to 0 to see all help / error messages\n"
     ]
    }
   ],
   "source": [
    "!mpiexec -n 2 python comm_p2p_numpy.py"
   ]
  },
  {
   "cell_type": "code",
   "execution_count": 68,
   "metadata": {},
   "outputs": [
    {
     "name": "stdout",
     "output_type": "stream",
     "text": [
      "before bcast: process 0 has [0 1 2 3 4 5 6 7 8 9]\n",
      "after bcast: process 0 has [0 1 2 3 4 5 6 7 8 9]\n"
     ]
    }
   ],
   "source": [
    "# comm_bcast_numpy.py\n",
    "\n",
    "from mpi4py import MPI\n",
    "comm = MPI.COMM_WORLD\n",
    "rank = comm.Get_rank()\n",
    "\n",
    "import numpy as np\n",
    "\n",
    "if rank == 0:\n",
    "    data = np.arange(10, dtype='i')\n",
    "    print('before bcast: process %d has %s' %(rank, data))\n",
    "else:\n",
    "    data = np.zeros(10, dtype='i')\n",
    "    print('before bcast: process %d has %s' %(rank, data))\n",
    "\n",
    "comm.Bcast(data, root=0)\n",
    "print('after bcast: process %d has %s' %(rank, data))"
   ]
  },
  {
   "cell_type": "code",
   "execution_count": 72,
   "metadata": {
    "collapsed": true
   },
   "outputs": [
    {
     "name": "stdout",
     "output_type": "stream",
     "text": [
      "--------------------------------------------------------------------------\n",
      "WARNING: Linux kernel CMA support was requested via the\n",
      "btl_vader_single_copy_mechanism MCA variable, but CMA support is\n",
      "not available due to restrictive ptrace settings.\n",
      "\n",
      "The vader shared memory BTL will fall back on another single-copy\n",
      "mechanism if one is available. This may result in lower performance.\n",
      "\n",
      "  Local host: Litzen\n",
      "--------------------------------------------------------------------------\n",
      "before bcast: process 0 has [0 1 2 3 4 5 6 7 8 9]\n",
      "before bcast: process 1 has [0 0 0 0 0 0 0 0 0 0]\n",
      "after bcast: process 0 has [0 1 2 3 4 5 6 7 8 9]\n",
      "after bcast: process 1 has [0 1 2 3 4 5 6 7 8 9]\n",
      "before bcast: process 2 has [0 0 0 0 0 0 0 0 0 0]\n",
      "after bcast: process 2 has [0 1 2 3 4 5 6 7 8 9]\n",
      "before bcast: process 3 has [0 0 0 0 0 0 0 0 0 0]\n",
      "after bcast: process 3 has [0 1 2 3 4 5 6 7 8 9]\n",
      "[Litzen:00666] 3 more processes have sent help message help-btl-vader.txt / cma-permission-denied\n",
      "[Litzen:00666] Set MCA parameter \"orte_base_help_aggregate\" to 0 to see all help / error messages\n"
     ]
    }
   ],
   "source": [
    "!mpiexec -n 4 python comm_bcast_numpy.py"
   ]
  },
  {
   "cell_type": "code",
   "execution_count": 114,
   "metadata": {},
   "outputs": [
    {
     "name": "stdout",
     "output_type": "stream",
     "text": [
      "before scatter: process 0 has\n",
      "[[1.13547712 0.25592499 2.88306616]]\n",
      "after bcast: process 0 has [1.13547712 0.25592499 2.88306616]\n"
     ]
    }
   ],
   "source": [
    "# comm_scatter_numpy.py\n",
    "\n",
    "from mpi4py import MPI\n",
    "import numpy as np\n",
    "\n",
    "comm = MPI.COMM_WORLD\n",
    "rank = comm.Get_rank()\n",
    "size = comm.Get_size()\n",
    "#on each process\n",
    "sdata = None\n",
    "if rank == 0:\n",
    "    sdata = np.random.normal(0, 1, size=(size, 3))\n",
    "    \n",
    "# on each process:\n",
    "print('before scatter: process %d has\\n%s' %(rank, sdata))\n",
    "rdata = np.zeros(3)\n",
    "comm.Scatter(sdata, rdata, root=0)\n",
    "print('after bcast: process %d has %s' %(rank, rdata))"
   ]
  },
  {
   "cell_type": "code",
   "execution_count": 115,
   "metadata": {
    "collapsed": true
   },
   "outputs": [
    {
     "name": "stdout",
     "output_type": "stream",
     "text": [
      "--------------------------------------------------------------------------\n",
      "WARNING: Linux kernel CMA support was requested via the\n",
      "btl_vader_single_copy_mechanism MCA variable, but CMA support is\n",
      "not available due to restrictive ptrace settings.\n",
      "\n",
      "The vader shared memory BTL will fall back on another single-copy\n",
      "mechanism if one is available. This may result in lower performance.\n",
      "\n",
      "  Local host: Litzen\n",
      "--------------------------------------------------------------------------\n",
      "before scatter: process 0 has\n",
      "[[-0.22474025  0.03019099  1.95457882]\n",
      " [-0.5791027  -0.71683518  0.20883896]\n",
      " [ 1.23454389 -0.60295366  0.95887501]]\n",
      "after bcast: process 0 has [-0.22474025  0.03019099  1.95457882]\n",
      "before scatter: process 1 has\n",
      "None\n",
      "before scatter: process 2 has\n",
      "None\n",
      "after bcast: process 1 has [-0.5791027  -0.71683518  0.20883896]\n",
      "after bcast: process 2 has [ 1.23454389 -0.60295366  0.95887501]\n",
      "[Litzen:00984] 2 more processes have sent help message help-btl-vader.txt / cma-permission-denied\n",
      "[Litzen:00984] Set MCA parameter \"orte_base_help_aggregate\" to 0 to see all help / error messages\n"
     ]
    }
   ],
   "source": [
    "!mpiexec -n 3 python comm_scatter_numpy.py"
   ]
  },
  {
   "cell_type": "code",
   "execution_count": 125,
   "metadata": {},
   "outputs": [
    {
     "name": "stdout",
     "output_type": "stream",
     "text": [
      "before gathering: process 0 has [0. 0. 0.]\n",
      "after gathering, process 0 has [[0. 0. 0.]]\n"
     ]
    }
   ],
   "source": [
    "# comm_gather_numpy.py\n",
    "\n",
    "from mpi4py import MPI\n",
    "import numpy as np\n",
    "\n",
    "comm = MPI.COMM_WORLD\n",
    "rank = comm.Get_rank()\n",
    "size = comm.Get_size()\n",
    "\n",
    "sdata = np.zeros(3) + rank\n",
    "print('before gathering: process %d has %s' %(rank, sdata))\n",
    "\n",
    "rdata = None\n",
    "if rank == 0:\n",
    "    rdata = np.zeros([size, 3])\n",
    "\n",
    "comm.Gather(sdata, rdata, root=0)\n",
    "print('after gathering, process %d has %s' %(rank, rdata))"
   ]
  },
  {
   "cell_type": "code",
   "execution_count": 126,
   "metadata": {
    "collapsed": true
   },
   "outputs": [
    {
     "name": "stdout",
     "output_type": "stream",
     "text": [
      "--------------------------------------------------------------------------\n",
      "WARNING: Linux kernel CMA support was requested via the\n",
      "btl_vader_single_copy_mechanism MCA variable, but CMA support is\n",
      "not available due to restrictive ptrace settings.\n",
      "\n",
      "The vader shared memory BTL will fall back on another single-copy\n",
      "mechanism if one is available. This may result in lower performance.\n",
      "\n",
      "  Local host: Litzen\n",
      "--------------------------------------------------------------------------\n",
      "before gathering: process 3 has [3. 3. 3.]\n",
      "after gathering, process 3 has\n",
      "None\n",
      "before gathering: process 2 has [2. 2. 2.]\n",
      "after gathering, process 2 has\n",
      "None\n",
      "before gathering: process 1 has [1. 1. 1.]\n",
      "after gathering, process 1 has\n",
      "None\n",
      "before gathering: process 0 has [0. 0. 0.]\n",
      "after gathering, process 0 has\n",
      "[[0. 0. 0.]\n",
      " [1. 1. 1.]\n",
      " [2. 2. 2.]\n",
      " [3. 3. 3.]]\n",
      "[Litzen:01038] 3 more processes have sent help message help-btl-vader.txt / cma-permission-denied\n",
      "[Litzen:01038] Set MCA parameter \"orte_base_help_aggregate\" to 0 to see all help / error messages\n"
     ]
    }
   ],
   "source": [
    "!mpiexec -n 4 python comm_gather_numpy.py"
   ]
  }
 ],
 "metadata": {
  "kernelspec": {
   "display_name": "Python 3",
   "language": "python",
   "name": "python3"
  },
  "language_info": {
   "codemirror_mode": {
    "name": "ipython",
    "version": 3
   },
   "file_extension": ".py",
   "mimetype": "text/x-python",
   "name": "python",
   "nbconvert_exporter": "python",
   "pygments_lexer": "ipython3",
   "version": "3.7.3"
  },
  "nbTranslate": {
   "displayLangs": [
    "*"
   ],
   "hotkey": "alt-t",
   "langInMainMenu": true,
   "sourceLang": "en",
   "targetLang": "fr",
   "useGoogleTranslate": true
  },
  "toc": {
   "base_numbering": 1,
   "nav_menu": {},
   "number_sections": true,
   "sideBar": true,
   "skip_h1_title": false,
   "title_cell": "Table of Contents",
   "title_sidebar": "Contents",
   "toc_cell": false,
   "toc_position": {},
   "toc_section_display": true,
   "toc_window_display": false
  },
  "varInspector": {
   "cols": {
    "lenName": 16,
    "lenType": 16,
    "lenVar": 40
   },
   "kernels_config": {
    "python": {
     "delete_cmd_postfix": "",
     "delete_cmd_prefix": "del ",
     "library": "var_list.py",
     "varRefreshCmd": "print(var_dic_list())"
    },
    "r": {
     "delete_cmd_postfix": ") ",
     "delete_cmd_prefix": "rm(",
     "library": "var_list.r",
     "varRefreshCmd": "cat(var_dic_list()) "
    }
   },
   "types_to_exclude": [
    "module",
    "function",
    "builtin_function_or_method",
    "instance",
    "_Feature"
   ],
   "window_display": false
  }
 },
 "nbformat": 4,
 "nbformat_minor": 2
}
